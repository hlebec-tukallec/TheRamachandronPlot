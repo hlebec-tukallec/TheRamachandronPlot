{
  "nbformat": 4,
  "nbformat_minor": 0,
  "metadata": {
    "colab": {
      "name": "TheRamachandronPlot.ipynb",
      "provenance": []
    },
    "kernelspec": {
      "name": "python3",
      "display_name": "Python 3"
    }
  },
  "cells": [
    {
      "cell_type": "code",
      "metadata": {
        "id": "N_xFNftge5rf"
      },
      "source": [
        "!pip3 install biopython\n",
        "import Bio\n",
        "import pandas as pd\n",
        "import numpy as np\n",
        "import math\n",
        "from matplotlib import pyplot as plt\n",
        "from matplotlib import patches as mp"
      ],
      "execution_count": null,
      "outputs": []
    },
    {
      "cell_type": "code",
      "metadata": {
        "id": "xe8Lswo58VAT"
      },
      "source": [
        "def degrees(angle):\n",
        "    if angle is None:\n",
        "        return None\n",
        "    return math.degrees(angle)\n"
      ],
      "execution_count": 97,
      "outputs": []
    },
    {
      "cell_type": "code",
      "metadata": {
        "id": "sgIkStSnhMcU"
      },
      "source": [
        "def phi_psy(name, location):\n",
        "    data = pd.DataFrame()\n",
        "    for model in Bio.PDB.PDBParser().get_structure(name, location):\n",
        "        for chain in model:\n",
        "            polypeptides = Bio.PDB.PPBuilder().build_peptides(chain)\n",
        "            for poly in polypeptides:\n",
        "                phi_psi_list = poly.get_phi_psi_list()\n",
        "                for phi, psi in phi_psi_list:\n",
        "                    data = data.append(pd.DataFrame({'phi' : [degrees(phi)],\n",
        "                                                     'psi' : [degrees(psi)], \n",
        "                                                     'chain_id' : [chain.id]}), ignore_index=True)\n",
        "    return data"
      ],
      "execution_count": 86,
      "outputs": []
    },
    {
      "cell_type": "code",
      "metadata": {
        "id": "OeUmKQ5xmLiw"
      },
      "source": [
        "def ramachandran_plot(data):\n",
        "    colors = ['#F08080', '#C71585','#008B8B', '#FFDAB9']\n",
        "    patches = []\n",
        "    plt.clf()\n",
        "    for color_id, chain_id in enumerate(data.chain_id.unique()):\n",
        "        plt.scatter(x='phi', y='psi', \n",
        "                    data=data.loc[data.chain_id==chain_id], color=colors[color_id])\n",
        "        patch = mp.Patch(color=colors[color_id], label=\"chain \" + chain_id)\n",
        "        patches.append(patch)\n",
        "    plt.xlabel('phi', color='r')\n",
        "    plt.ylabel('psi', color='r')\n",
        "    ax = plt.gca()\n",
        "    ax.set(xlim=(-180, 180), ylim=(-180, 180))\n",
        "    ax.spines['top'].set_position('center')\n",
        "    ax.spines['right'].set_position('center')\n",
        "    ax.spines['left'].set_visible(False)\n",
        "    ax.spines['bottom'].set_visible(False)\n",
        "    plt.legend(handles=patches)\n",
        "    plt.show()"
      ],
      "execution_count": 91,
      "outputs": []
    },
    {
      "cell_type": "code",
      "metadata": {
        "id": "lbUdjHKqw7sw",
        "outputId": "158dfd73-6e5a-426e-9d66-0724e360df10",
        "colab": {
          "base_uri": "https://localhost:8080/",
          "height": 279
        }
      },
      "source": [
        "ramachandran_plot(phi_psy(\"2MTY\", \"/content/drive/My Drive/Colab Notebooks/determination_of_ peptides/2MTY.pdb\"))"
      ],
      "execution_count": 98,
      "outputs": [
        {
          "output_type": "display_data",
          "data": {
            "image/png": "[encoded data removed]",
            "text/plain": [
              "<Figure size 432x288 with 1 Axes>"
            ]
          },
          "metadata": {
            "tags": [],
            "needs_background": "light"
          }
        }
      ]
    },
    {
      "cell_type": "code",
      "metadata": {
        "id": "LPMu89hh0GEV",
        "outputId": "e6960ce8-4d86-45f8-b07e-d839997b85ec",
        "colab": {
          "base_uri": "https://localhost:8080/",
          "height": 449
        }
      },
      "source": [
        "ramachandran_plot(phi_psy(\"3D9L\", \"/content/drive/My Drive/Colab Notebooks/determination_of_ peptides/3D9L.pdb\"))"
      ],
      "execution_count": 99,
      "outputs": [
        {
          "output_type": "stream",
          "text": [
            "/usr/local/lib/python3.6/dist-packages/Bio/PDB/StructureBuilder.py:92: PDBConstructionWarning: WARNING: Chain A is discontinuous at line 3056.\n",
            "  PDBConstructionWarning,\n",
            "/usr/local/lib/python3.6/dist-packages/Bio/PDB/StructureBuilder.py:92: PDBConstructionWarning: WARNING: Chain B is discontinuous at line 3060.\n",
            "  PDBConstructionWarning,\n",
            "/usr/local/lib/python3.6/dist-packages/Bio/PDB/StructureBuilder.py:92: PDBConstructionWarning: WARNING: Chain A is discontinuous at line 3066.\n",
            "  PDBConstructionWarning,\n",
            "/usr/local/lib/python3.6/dist-packages/Bio/PDB/StructureBuilder.py:92: PDBConstructionWarning: WARNING: Chain B is discontinuous at line 3091.\n",
            "  PDBConstructionWarning,\n",
            "/usr/local/lib/python3.6/dist-packages/Bio/PDB/StructureBuilder.py:92: PDBConstructionWarning: WARNING: Chain Y is discontinuous at line 3121.\n",
            "  PDBConstructionWarning,\n"
          ],
          "name": "stderr"
        },
        {
          "output_type": "display_data",
          "data": {
            "image/png": "[encoded data removed]",
            "text/plain": [
              "<Figure size 432x288 with 1 Axes>"
            ]
          },
          "metadata": {
            "tags": [],
            "needs_background": "light"
          }
        }
      ]
    },
    {
      "cell_type": "code",
      "metadata": {
        "id": "RmcIRtQ70OQM",
        "outputId": "30d9f882-0e28-4d15-865a-494cbe1bccd9",
        "colab": {
          "base_uri": "https://localhost:8080/",
          "height": 687
        }
      },
      "source": [
        "ramachandran_plot(phi_psy(\"3UXW\", \"/content/drive/My Drive/Colab Notebooks/determination_of_ peptides/3UXW.pdb\"))"
      ],
      "execution_count": 100,
      "outputs": [
        {
          "output_type": "stream",
          "text": [
            "/usr/local/lib/python3.6/dist-packages/Bio/PDB/StructureBuilder.py:92: PDBConstructionWarning: WARNING: Chain A is discontinuous at line 2621.\n",
            "  PDBConstructionWarning,\n",
            "/usr/local/lib/python3.6/dist-packages/Bio/PDB/StructureBuilder.py:92: PDBConstructionWarning: WARNING: Chain B is discontinuous at line 2626.\n",
            "  PDBConstructionWarning,\n",
            "/usr/local/lib/python3.6/dist-packages/Bio/PDB/StructureBuilder.py:92: PDBConstructionWarning: WARNING: Chain C is discontinuous at line 2636.\n",
            "  PDBConstructionWarning,\n",
            "/usr/local/lib/python3.6/dist-packages/Bio/PDB/StructureBuilder.py:92: PDBConstructionWarning: WARNING: Chain D is discontinuous at line 2642.\n",
            "  PDBConstructionWarning,\n",
            "/usr/local/lib/python3.6/dist-packages/Bio/PDB/StructureBuilder.py:92: PDBConstructionWarning: WARNING: Chain E is discontinuous at line 2654.\n",
            "  PDBConstructionWarning,\n",
            "/usr/local/lib/python3.6/dist-packages/Bio/PDB/StructureBuilder.py:92: PDBConstructionWarning: WARNING: Chain F is discontinuous at line 2657.\n",
            "  PDBConstructionWarning,\n",
            "/usr/local/lib/python3.6/dist-packages/Bio/PDB/StructureBuilder.py:92: PDBConstructionWarning: WARNING: Chain G is discontinuous at line 2661.\n",
            "  PDBConstructionWarning,\n",
            "/usr/local/lib/python3.6/dist-packages/Bio/PDB/StructureBuilder.py:92: PDBConstructionWarning: WARNING: Chain H is discontinuous at line 2669.\n",
            "  PDBConstructionWarning,\n",
            "/usr/local/lib/python3.6/dist-packages/Bio/PDB/StructureBuilder.py:92: PDBConstructionWarning: WARNING: Chain K is discontinuous at line 2672.\n",
            "  PDBConstructionWarning,\n",
            "/usr/local/lib/python3.6/dist-packages/Bio/PDB/StructureBuilder.py:92: PDBConstructionWarning: WARNING: Chain L is discontinuous at line 2673.\n",
            "  PDBConstructionWarning,\n",
            "/usr/local/lib/python3.6/dist-packages/Bio/PDB/StructureBuilder.py:92: PDBConstructionWarning: WARNING: Chain M is discontinuous at line 2676.\n",
            "  PDBConstructionWarning,\n",
            "/usr/local/lib/python3.6/dist-packages/Bio/PDB/StructureBuilder.py:92: PDBConstructionWarning: WARNING: Chain N is discontinuous at line 2679.\n",
            "  PDBConstructionWarning,\n"
          ],
          "name": "stderr"
        },
        {
          "output_type": "display_data",
          "data": {
            "image/png": "[encoded data removed]",
            "text/plain": [
              "<Figure size 432x288 with 1 Axes>"
            ]
          },
          "metadata": {
            "tags": [],
            "needs_background": "light"
          }
        }
      ]
    }
  ]
}
