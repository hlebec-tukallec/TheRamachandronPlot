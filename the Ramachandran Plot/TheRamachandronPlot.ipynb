{
  "nbformat": 4,
  "nbformat_minor": 0,
  "metadata": {
    "colab": {
      "name": "TheRamachandronPlot.ipynb",
      "provenance": []
    },
    "kernelspec": {
      "name": "python3",
      "display_name": "Python 3"
    }
  },
  "cells": [
    {
      "cell_type": "code",
      "metadata": {
        "id": "N_xFNftge5rf"
      },
      "source": [
        "!pip3 install biopython\n",
        "import Bio\n",
        "import pandas as pd\n",
        "import numpy as np\n",
        "import math\n",
        "from matplotlib import pyplot as plt\n",
        "from matplotlib import patches as mp"
      ],
      "execution_count": null,
      "outputs": []
    },
    {
      "cell_type": "code",
      "metadata": {
        "id": "sgIkStSnhMcU"
      },
      "source": [
        "def phi_psy(name, place):\n",
        "  angles = pd.DataFrame()\n",
        "  for model in Bio.PDB.PDBParser().get_structure(name, place):\n",
        "      for chain in model:\n",
        "          polypeptides = Bio.PDB.PPBuilder().build_peptides(chain)\n",
        "          for poly in polypeptides:\n",
        "              angles_list = poly.angles_list()\n",
        "              for phi, psi in angles_list:\n",
        "                  angles = angles.append(pd.DataFrame({'phi' : [degrees(phi)],\n",
        "                                                     'psi' : [degrees(psi)], \n",
        "                                                     'chain_num' : [chain.num]}), ignore_index=True)\n",
        "  return angles"
      ],
      "execution_count": 36,
      "outputs": []
    },
    {
      "cell_type": "code",
      "metadata": {
        "id": "OeUmKQ5xmLiw"
      },
      "source": [
        "def ramachandran_plot(data):\n",
        "    colors = ['#F08080', '#C71585','#008B8B', '#FFDAB9', '#0000CD', '#BC8F8F']\n",
        "    patches = []\n",
        "    plt.clf()\n",
        "    for color_id, chain_num in enumerate(data.chain_num.unique()):\n",
        "        plt.scatter(x='phi', y='psi', \n",
        "                    data=data.loc[data.chain_id==chain_num], color=colors[color_id])\n",
        "        patch = mpatches.Patch(color=colors[color_id], label=\"chain \" + chain_num)\n",
        "        patches.append(patch)\n",
        "    plt.xlabel('phi', color='r')\n",
        "    plt.ylabel('psi', color='r')\n",
        "    ax = plt.gca()\n",
        "    ax.set(xlim=(-180, 180), ylim=(-180, 180))\n",
        "    ax.spines['top'].set_position('center')\n",
        "    ax.spines['right'].set_position('center')\n",
        "    ax.spines['left'].set_visible(False)\n",
        "    ax.spines['bottom'].set_visible(False)\n",
        "    plt.legend(handles=patches)\n",
        "    plt.show()"
      ],
      "execution_count": 53,
      "outputs": []
    },
    {
      "cell_type": "code",
      "metadata": {
        "id": "lbUdjHKqw7sw"
      },
      "source": [
        "ramachandran_plot(phi_psy(\"2MTY\", \"Determination_of _peptides/2MTY.pdb\"))"
      ],
      "execution_count": null,
      "outputs": []
    },
    {
      "cell_type": "code",
      "metadata": {
        "id": "LPMu89hh0GEV"
      },
      "source": [
        "ramachandran_plot(phi_psy(\"3D9L\", \"Determination_of _peptides/3D9L.pdb\"))"
      ],
      "execution_count": null,
      "outputs": []
    },
    {
      "cell_type": "code",
      "metadata": {
        "id": "RmcIRtQ70OQM"
      },
      "source": [
        "ramachandran_plot(phi_psy(\"3UXW\", \"Determination_of _peptides/3UXW.pdb\"))"
      ],
      "execution_count": null,
      "outputs": []
    }
  ]
}